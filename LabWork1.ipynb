{
  "cells": [
    {
      "cell_type": "markdown",
      "metadata": {
        "id": "view-in-github",
        "colab_type": "text"
      },
      "source": [
        "<a href=\"https://colab.research.google.com/github/enikolaev/MMO/blob/main/Lesson%2001.%20Data%20Preprocessing/LabWork1.ipynb\" target=\"_parent\"><img src=\"https://colab.research.google.com/assets/colab-badge.svg\" alt=\"Open In Colab\"/></a>"
      ]
    },
    {
      "cell_type": "markdown",
      "metadata": {
        "id": "0WHrp4L2DlLO"
      },
      "source": [
        "# Лабораторная работа 1\n",
        "## Исследование набора данных ирисы Фишера"
      ]
    },
    {
      "cell_type": "markdown",
      "metadata": {
        "id": "OuqYdfR6DlLR"
      },
      "source": [
        "### Подключение библиотеки NumPy и загрузка данных"
      ]
    },
    {
      "cell_type": "code",
      "source": [
        "!wget https://raw.githubusercontent.com/enikolaev/MMO/main/datasets/iris/iris.data"
      ],
      "metadata": {
        "colab": {
          "base_uri": "https://localhost:8080/"
        },
        "id": "tvYswangDm8g",
        "outputId": "f5a752ca-3bbf-4e33-ff18-bcee3c78c0d5"
      },
      "execution_count": 1,
      "outputs": [
        {
          "output_type": "stream",
          "name": "stdout",
          "text": [
            "--2024-01-24 15:20:50--  https://raw.githubusercontent.com/enikolaev/MMO/main/datasets/iris/iris.data\n",
            "Resolving raw.githubusercontent.com (raw.githubusercontent.com)... 185.199.110.133, 185.199.111.133, 185.199.108.133, ...\n",
            "Connecting to raw.githubusercontent.com (raw.githubusercontent.com)|185.199.110.133|:443... connected.\n",
            "HTTP request sent, awaiting response... 200 OK\n",
            "Length: 4551 (4.4K) [text/plain]\n",
            "Saving to: ‘iris.data’\n",
            "\n",
            "\riris.data             0%[                    ]       0  --.-KB/s               \riris.data           100%[===================>]   4.44K  --.-KB/s    in 0s      \n",
            "\n",
            "2024-01-24 15:20:50 (41.9 MB/s) - ‘iris.data’ saved [4551/4551]\n",
            "\n"
          ]
        }
      ]
    },
    {
      "cell_type": "code",
      "execution_count": 3,
      "metadata": {
        "ExecuteTime": {
          "end_time": "2022-08-22T15:50:49.355964Z",
          "start_time": "2022-08-22T15:50:46.108877Z"
        },
        "colab": {
          "base_uri": "https://localhost:8080/"
        },
        "id": "Y-GOOMZhDlLR",
        "outputId": "077ee679-a9a4-495d-ac3e-3a999775e035"
      },
      "outputs": [
        {
          "output_type": "stream",
          "name": "stdout",
          "text": [
            "[[5.1 3.5 1.4 0.2 nan]\n",
            " [4.9 3.  1.4 0.2 nan]\n",
            " [4.7 3.2 1.3 0.2 nan]\n",
            " [4.6 3.1 1.5 0.2 nan]\n",
            " [5.  3.6 1.4 0.2 nan]\n",
            " [5.4 3.9 1.7 0.4 nan]\n",
            " [4.6 3.4 1.4 0.3 nan]\n",
            " [5.  3.4 1.5 0.2 nan]\n",
            " [4.4 2.9 1.4 0.2 nan]\n",
            " [4.9 3.1 1.5 0.1 nan]\n",
            " [5.4 3.7 1.5 0.2 nan]\n",
            " [4.8 3.4 1.6 0.2 nan]\n",
            " [4.8 3.  1.4 0.1 nan]\n",
            " [4.3 3.  1.1 0.1 nan]\n",
            " [5.8 4.  1.2 0.2 nan]\n",
            " [5.7 4.4 1.5 0.4 nan]\n",
            " [5.4 3.9 1.3 0.4 nan]\n",
            " [5.1 3.5 1.4 0.3 nan]\n",
            " [5.7 3.8 1.7 0.3 nan]\n",
            " [5.1 3.8 1.5 0.3 nan]\n",
            " [5.4 3.4 1.7 0.2 nan]\n",
            " [5.1 3.7 1.5 0.4 nan]\n",
            " [4.6 3.6 1.  0.2 nan]\n",
            " [5.1 3.3 1.7 0.5 nan]\n",
            " [4.8 3.4 1.9 0.2 nan]\n",
            " [5.  3.  1.6 0.2 nan]\n",
            " [5.  3.4 1.6 0.4 nan]\n",
            " [5.2 3.5 1.5 0.2 nan]\n",
            " [5.2 3.4 1.4 0.2 nan]\n",
            " [4.7 3.2 1.6 0.2 nan]\n",
            " [4.8 3.1 1.6 0.2 nan]\n",
            " [5.4 3.4 1.5 0.4 nan]\n",
            " [5.2 4.1 1.5 0.1 nan]\n",
            " [5.5 4.2 1.4 0.2 nan]\n",
            " [4.9 3.1 1.5 0.1 nan]\n",
            " [5.  3.2 1.2 0.2 nan]\n",
            " [5.5 3.5 1.3 0.2 nan]\n",
            " [4.9 3.1 1.5 0.1 nan]\n",
            " [4.4 3.  1.3 0.2 nan]\n",
            " [5.1 3.4 1.5 0.2 nan]\n",
            " [5.  3.5 1.3 0.3 nan]\n",
            " [4.5 2.3 1.3 0.3 nan]\n",
            " [4.4 3.2 1.3 0.2 nan]\n",
            " [5.  3.5 1.6 0.6 nan]\n",
            " [5.1 3.8 1.9 0.4 nan]\n",
            " [4.8 3.  1.4 0.3 nan]\n",
            " [5.1 3.8 1.6 0.2 nan]\n",
            " [4.6 3.2 1.4 0.2 nan]\n",
            " [5.3 3.7 1.5 0.2 nan]\n",
            " [5.  3.3 1.4 0.2 nan]\n",
            " [7.  3.2 4.7 1.4 nan]\n",
            " [6.4 3.2 4.5 1.5 nan]\n",
            " [6.9 3.1 4.9 1.5 nan]\n",
            " [5.5 2.3 4.  1.3 nan]\n",
            " [6.5 2.8 4.6 1.5 nan]\n",
            " [5.7 2.8 4.5 1.3 nan]\n",
            " [6.3 3.3 4.7 1.6 nan]\n",
            " [4.9 2.4 3.3 1.  nan]\n",
            " [6.6 2.9 4.6 1.3 nan]\n",
            " [5.2 2.7 3.9 1.4 nan]\n",
            " [5.  2.  3.5 1.  nan]\n",
            " [5.9 3.  4.2 1.5 nan]\n",
            " [6.  2.2 4.  1.  nan]\n",
            " [6.1 2.9 4.7 1.4 nan]\n",
            " [5.6 2.9 3.6 1.3 nan]\n",
            " [6.7 3.1 4.4 1.4 nan]\n",
            " [5.6 3.  4.5 1.5 nan]\n",
            " [5.8 2.7 4.1 1.  nan]\n",
            " [6.2 2.2 4.5 1.5 nan]\n",
            " [5.6 2.5 3.9 1.1 nan]\n",
            " [5.9 3.2 4.8 1.8 nan]\n",
            " [6.1 2.8 4.  1.3 nan]\n",
            " [6.3 2.5 4.9 1.5 nan]\n",
            " [6.1 2.8 4.7 1.2 nan]\n",
            " [6.4 2.9 4.3 1.3 nan]\n",
            " [6.6 3.  4.4 1.4 nan]\n",
            " [6.8 2.8 4.8 1.4 nan]\n",
            " [6.7 3.  5.  1.7 nan]\n",
            " [6.  2.9 4.5 1.5 nan]\n",
            " [5.7 2.6 3.5 1.  nan]\n",
            " [5.5 2.4 3.8 1.1 nan]\n",
            " [5.5 2.4 3.7 1.  nan]\n",
            " [5.8 2.7 3.9 1.2 nan]\n",
            " [6.  2.7 5.1 1.6 nan]\n",
            " [5.4 3.  4.5 1.5 nan]\n",
            " [6.  3.4 4.5 1.6 nan]\n",
            " [6.7 3.1 4.7 1.5 nan]\n",
            " [6.3 2.3 4.4 1.3 nan]\n",
            " [5.6 3.  4.1 1.3 nan]\n",
            " [5.5 2.5 4.  1.3 nan]\n",
            " [5.5 2.6 4.4 1.2 nan]\n",
            " [6.1 3.  4.6 1.4 nan]\n",
            " [5.8 2.6 4.  1.2 nan]\n",
            " [5.  2.3 3.3 1.  nan]\n",
            " [5.6 2.7 4.2 1.3 nan]\n",
            " [5.7 3.  4.2 1.2 nan]\n",
            " [5.7 2.9 4.2 1.3 nan]\n",
            " [6.2 2.9 4.3 1.3 nan]\n",
            " [5.1 2.5 3.  1.1 nan]\n",
            " [5.7 2.8 4.1 1.3 nan]\n",
            " [6.3 3.3 6.  2.5 nan]\n",
            " [5.8 2.7 5.1 1.9 nan]\n",
            " [7.1 3.  5.9 2.1 nan]\n",
            " [6.3 2.9 5.6 1.8 nan]\n",
            " [6.5 3.  5.8 2.2 nan]\n",
            " [7.6 3.  6.6 2.1 nan]\n",
            " [4.9 2.5 4.5 1.7 nan]\n",
            " [7.3 2.9 6.3 1.8 nan]\n",
            " [6.7 2.5 5.8 1.8 nan]\n",
            " [7.2 3.6 6.1 2.5 nan]\n",
            " [6.5 3.2 5.1 2.  nan]\n",
            " [6.4 2.7 5.3 1.9 nan]\n",
            " [6.8 3.  5.5 2.1 nan]\n",
            " [5.7 2.5 5.  2.  nan]\n",
            " [5.8 2.8 5.1 2.4 nan]\n",
            " [6.4 3.2 5.3 2.3 nan]\n",
            " [6.5 3.  5.5 1.8 nan]\n",
            " [7.7 3.8 6.7 2.2 nan]\n",
            " [7.7 2.6 6.9 2.3 nan]\n",
            " [6.  2.2 5.  1.5 nan]\n",
            " [6.9 3.2 5.7 2.3 nan]\n",
            " [5.6 2.8 4.9 2.  nan]\n",
            " [7.7 2.8 6.7 2.  nan]\n",
            " [6.3 2.7 4.9 1.8 nan]\n",
            " [6.7 3.3 5.7 2.1 nan]\n",
            " [7.2 3.2 6.  1.8 nan]\n",
            " [6.2 2.8 4.8 1.8 nan]\n",
            " [6.1 3.  4.9 1.8 nan]\n",
            " [6.4 2.8 5.6 2.1 nan]\n",
            " [7.2 3.  5.8 1.6 nan]\n",
            " [7.4 2.8 6.1 1.9 nan]\n",
            " [7.9 3.8 6.4 2.  nan]\n",
            " [6.4 2.8 5.6 2.2 nan]\n",
            " [6.3 2.8 5.1 1.5 nan]\n",
            " [6.1 2.6 5.6 1.4 nan]\n",
            " [7.7 3.  6.1 2.3 nan]\n",
            " [6.3 3.4 5.6 2.4 nan]\n",
            " [6.4 3.1 5.5 1.8 nan]\n",
            " [6.  3.  4.8 1.8 nan]\n",
            " [6.9 3.1 5.4 2.1 nan]\n",
            " [6.7 3.1 5.6 2.4 nan]\n",
            " [6.9 3.1 5.1 2.3 nan]\n",
            " [5.8 2.7 5.1 1.9 nan]\n",
            " [6.8 3.2 5.9 2.3 nan]\n",
            " [6.7 3.3 5.7 2.5 nan]\n",
            " [6.7 3.  5.2 2.3 nan]\n",
            " [6.3 2.5 5.  1.9 nan]\n",
            " [6.5 3.  5.2 2.  nan]\n",
            " [6.2 3.4 5.4 2.3 nan]\n",
            " [5.9 3.  5.1 1.8 nan]]\n"
          ]
        }
      ],
      "source": [
        "import numpy as np\n",
        "data_path = \"iris.data\"\n",
        "data = np.genfromtxt(data_path, delimiter=\",\")\n",
        "print(data)"
      ]
    },
    {
      "cell_type": "markdown",
      "metadata": {
        "id": "BRkRKa7vDlLT"
      },
      "source": [
        "### Тип переменной и форма (shape)"
      ]
    },
    {
      "cell_type": "code",
      "execution_count": 4,
      "metadata": {
        "ExecuteTime": {
          "end_time": "2022-08-22T15:50:53.470268Z",
          "start_time": "2022-08-22T15:50:53.466267Z"
        },
        "colab": {
          "base_uri": "https://localhost:8080/"
        },
        "id": "n1sUPh2yDlLT",
        "outputId": "dc86f9c5-e4be-4bbf-edbc-231df90c8cd3"
      },
      "outputs": [
        {
          "output_type": "stream",
          "name": "stdout",
          "text": [
            "Data type :  <class 'numpy.ndarray'>\n",
            "Data shape :  (150, 5)\n",
            "[[6.3 2.5 5.  1.9 nan]\n",
            " [6.5 3.  5.2 2.  nan]\n",
            " [6.2 3.4 5.4 2.3 nan]\n",
            " [5.9 3.  5.1 1.8 nan]]\n"
          ]
        }
      ],
      "source": [
        "print ( \"Data type : \", type(data) )\n",
        "print ( \"Data shape : \", data.shape )\n",
        "print ( data[-4:] )"
      ]
    },
    {
      "cell_type": "markdown",
      "metadata": {
        "id": "WnQZ1-tlDlLT"
      },
      "source": [
        "### Получение типа набора данных, строки, элемента"
      ]
    },
    {
      "cell_type": "code",
      "execution_count": 5,
      "metadata": {
        "ExecuteTime": {
          "end_time": "2022-08-22T15:50:56.469203Z",
          "start_time": "2022-08-22T15:50:56.442184Z"
        },
        "colab": {
          "base_uri": "https://localhost:8080/"
        },
        "id": "diZMLAwIDlLT",
        "outputId": "ac904ba3-4a89-4454-804c-42126bb6f64f"
      },
      "outputs": [
        {
          "output_type": "stream",
          "name": "stdout",
          "text": [
            "Shape of the dataset: (150,)\n",
            "Dataset type: <class 'numpy.ndarray'>\n",
            "A single row of the dataset is type of: <class 'numpy.void'>\n",
            "Types of elements: <class 'numpy.float64'> <class 'numpy.bytes_'>\n",
            "Dataset:\n",
            "[(5.1, 3.5, 1.4, 0.2, b'Iris-setosa') (4.9, 3. , 1.4, 0.2, b'Iris-setosa')\n",
            " (4.7, 3.2, 1.3, 0.2, b'Iris-setosa') (4.6, 3.1, 1.5, 0.2, b'Iris-setosa')\n",
            " (5. , 3.6, 1.4, 0.2, b'Iris-setosa') (5.4, 3.9, 1.7, 0.4, b'Iris-setosa')\n",
            " (4.6, 3.4, 1.4, 0.3, b'Iris-setosa') (5. , 3.4, 1.5, 0.2, b'Iris-setosa')\n",
            " (4.4, 2.9, 1.4, 0.2, b'Iris-setosa') (4.9, 3.1, 1.5, 0.1, b'Iris-setosa')\n",
            " (5.4, 3.7, 1.5, 0.2, b'Iris-setosa') (4.8, 3.4, 1.6, 0.2, b'Iris-setosa')\n",
            " (4.8, 3. , 1.4, 0.1, b'Iris-setosa') (4.3, 3. , 1.1, 0.1, b'Iris-setosa')\n",
            " (5.8, 4. , 1.2, 0.2, b'Iris-setosa') (5.7, 4.4, 1.5, 0.4, b'Iris-setosa')\n",
            " (5.4, 3.9, 1.3, 0.4, b'Iris-setosa') (5.1, 3.5, 1.4, 0.3, b'Iris-setosa')\n",
            " (5.7, 3.8, 1.7, 0.3, b'Iris-setosa') (5.1, 3.8, 1.5, 0.3, b'Iris-setosa')\n",
            " (5.4, 3.4, 1.7, 0.2, b'Iris-setosa') (5.1, 3.7, 1.5, 0.4, b'Iris-setosa')\n",
            " (4.6, 3.6, 1. , 0.2, b'Iris-setosa') (5.1, 3.3, 1.7, 0.5, b'Iris-setosa')\n",
            " (4.8, 3.4, 1.9, 0.2, b'Iris-setosa') (5. , 3. , 1.6, 0.2, b'Iris-setosa')\n",
            " (5. , 3.4, 1.6, 0.4, b'Iris-setosa') (5.2, 3.5, 1.5, 0.2, b'Iris-setosa')\n",
            " (5.2, 3.4, 1.4, 0.2, b'Iris-setosa') (4.7, 3.2, 1.6, 0.2, b'Iris-setosa')\n",
            " (4.8, 3.1, 1.6, 0.2, b'Iris-setosa') (5.4, 3.4, 1.5, 0.4, b'Iris-setosa')\n",
            " (5.2, 4.1, 1.5, 0.1, b'Iris-setosa') (5.5, 4.2, 1.4, 0.2, b'Iris-setosa')\n",
            " (4.9, 3.1, 1.5, 0.1, b'Iris-setosa') (5. , 3.2, 1.2, 0.2, b'Iris-setosa')\n",
            " (5.5, 3.5, 1.3, 0.2, b'Iris-setosa') (4.9, 3.1, 1.5, 0.1, b'Iris-setosa')\n",
            " (4.4, 3. , 1.3, 0.2, b'Iris-setosa') (5.1, 3.4, 1.5, 0.2, b'Iris-setosa')\n",
            " (5. , 3.5, 1.3, 0.3, b'Iris-setosa') (4.5, 2.3, 1.3, 0.3, b'Iris-setosa')\n",
            " (4.4, 3.2, 1.3, 0.2, b'Iris-setosa') (5. , 3.5, 1.6, 0.6, b'Iris-setosa')\n",
            " (5.1, 3.8, 1.9, 0.4, b'Iris-setosa') (4.8, 3. , 1.4, 0.3, b'Iris-setosa')\n",
            " (5.1, 3.8, 1.6, 0.2, b'Iris-setosa') (4.6, 3.2, 1.4, 0.2, b'Iris-setosa')\n",
            " (5.3, 3.7, 1.5, 0.2, b'Iris-setosa') (5. , 3.3, 1.4, 0.2, b'Iris-setosa')\n",
            " (7. , 3.2, 4.7, 1.4, b'Iris-versicolor')\n",
            " (6.4, 3.2, 4.5, 1.5, b'Iris-versicolor')\n",
            " (6.9, 3.1, 4.9, 1.5, b'Iris-versicolor')\n",
            " (5.5, 2.3, 4. , 1.3, b'Iris-versicolor')\n",
            " (6.5, 2.8, 4.6, 1.5, b'Iris-versicolor')\n",
            " (5.7, 2.8, 4.5, 1.3, b'Iris-versicolor')\n",
            " (6.3, 3.3, 4.7, 1.6, b'Iris-versicolor')\n",
            " (4.9, 2.4, 3.3, 1. , b'Iris-versicolor')\n",
            " (6.6, 2.9, 4.6, 1.3, b'Iris-versicolor')\n",
            " (5.2, 2.7, 3.9, 1.4, b'Iris-versicolor')\n",
            " (5. , 2. , 3.5, 1. , b'Iris-versicolor')\n",
            " (5.9, 3. , 4.2, 1.5, b'Iris-versicolor')\n",
            " (6. , 2.2, 4. , 1. , b'Iris-versicolor')\n",
            " (6.1, 2.9, 4.7, 1.4, b'Iris-versicolor')\n",
            " (5.6, 2.9, 3.6, 1.3, b'Iris-versicolor')\n",
            " (6.7, 3.1, 4.4, 1.4, b'Iris-versicolor')\n",
            " (5.6, 3. , 4.5, 1.5, b'Iris-versicolor')\n",
            " (5.8, 2.7, 4.1, 1. , b'Iris-versicolor')\n",
            " (6.2, 2.2, 4.5, 1.5, b'Iris-versicolor')\n",
            " (5.6, 2.5, 3.9, 1.1, b'Iris-versicolor')\n",
            " (5.9, 3.2, 4.8, 1.8, b'Iris-versicolor')\n",
            " (6.1, 2.8, 4. , 1.3, b'Iris-versicolor')\n",
            " (6.3, 2.5, 4.9, 1.5, b'Iris-versicolor')\n",
            " (6.1, 2.8, 4.7, 1.2, b'Iris-versicolor')\n",
            " (6.4, 2.9, 4.3, 1.3, b'Iris-versicolor')\n",
            " (6.6, 3. , 4.4, 1.4, b'Iris-versicolor')\n",
            " (6.8, 2.8, 4.8, 1.4, b'Iris-versicolor')\n",
            " (6.7, 3. , 5. , 1.7, b'Iris-versicolor')\n",
            " (6. , 2.9, 4.5, 1.5, b'Iris-versicolor')\n",
            " (5.7, 2.6, 3.5, 1. , b'Iris-versicolor')\n",
            " (5.5, 2.4, 3.8, 1.1, b'Iris-versicolor')\n",
            " (5.5, 2.4, 3.7, 1. , b'Iris-versicolor')\n",
            " (5.8, 2.7, 3.9, 1.2, b'Iris-versicolor')\n",
            " (6. , 2.7, 5.1, 1.6, b'Iris-versicolor')\n",
            " (5.4, 3. , 4.5, 1.5, b'Iris-versicolor')\n",
            " (6. , 3.4, 4.5, 1.6, b'Iris-versicolor')\n",
            " (6.7, 3.1, 4.7, 1.5, b'Iris-versicolor')\n",
            " (6.3, 2.3, 4.4, 1.3, b'Iris-versicolor')\n",
            " (5.6, 3. , 4.1, 1.3, b'Iris-versicolor')\n",
            " (5.5, 2.5, 4. , 1.3, b'Iris-versicolor')\n",
            " (5.5, 2.6, 4.4, 1.2, b'Iris-versicolor')\n",
            " (6.1, 3. , 4.6, 1.4, b'Iris-versicolor')\n",
            " (5.8, 2.6, 4. , 1.2, b'Iris-versicolor')\n",
            " (5. , 2.3, 3.3, 1. , b'Iris-versicolor')\n",
            " (5.6, 2.7, 4.2, 1.3, b'Iris-versicolor')\n",
            " (5.7, 3. , 4.2, 1.2, b'Iris-versicolor')\n",
            " (5.7, 2.9, 4.2, 1.3, b'Iris-versicolor')\n",
            " (6.2, 2.9, 4.3, 1.3, b'Iris-versicolor')\n",
            " (5.1, 2.5, 3. , 1.1, b'Iris-versicolor')\n",
            " (5.7, 2.8, 4.1, 1.3, b'Iris-versicolor')\n",
            " (6.3, 3.3, 6. , 2.5, b'Iris-virginica')\n",
            " (5.8, 2.7, 5.1, 1.9, b'Iris-virginica')\n",
            " (7.1, 3. , 5.9, 2.1, b'Iris-virginica')\n",
            " (6.3, 2.9, 5.6, 1.8, b'Iris-virginica')\n",
            " (6.5, 3. , 5.8, 2.2, b'Iris-virginica')\n",
            " (7.6, 3. , 6.6, 2.1, b'Iris-virginica')\n",
            " (4.9, 2.5, 4.5, 1.7, b'Iris-virginica')\n",
            " (7.3, 2.9, 6.3, 1.8, b'Iris-virginica')\n",
            " (6.7, 2.5, 5.8, 1.8, b'Iris-virginica')\n",
            " (7.2, 3.6, 6.1, 2.5, b'Iris-virginica')\n",
            " (6.5, 3.2, 5.1, 2. , b'Iris-virginica')\n",
            " (6.4, 2.7, 5.3, 1.9, b'Iris-virginica')\n",
            " (6.8, 3. , 5.5, 2.1, b'Iris-virginica')\n",
            " (5.7, 2.5, 5. , 2. , b'Iris-virginica')\n",
            " (5.8, 2.8, 5.1, 2.4, b'Iris-virginica')\n",
            " (6.4, 3.2, 5.3, 2.3, b'Iris-virginica')\n",
            " (6.5, 3. , 5.5, 1.8, b'Iris-virginica')\n",
            " (7.7, 3.8, 6.7, 2.2, b'Iris-virginica')\n",
            " (7.7, 2.6, 6.9, 2.3, b'Iris-virginica')\n",
            " (6. , 2.2, 5. , 1.5, b'Iris-virginica')\n",
            " (6.9, 3.2, 5.7, 2.3, b'Iris-virginica')\n",
            " (5.6, 2.8, 4.9, 2. , b'Iris-virginica')\n",
            " (7.7, 2.8, 6.7, 2. , b'Iris-virginica')\n",
            " (6.3, 2.7, 4.9, 1.8, b'Iris-virginica')\n",
            " (6.7, 3.3, 5.7, 2.1, b'Iris-virginica')\n",
            " (7.2, 3.2, 6. , 1.8, b'Iris-virginica')\n",
            " (6.2, 2.8, 4.8, 1.8, b'Iris-virginica')\n",
            " (6.1, 3. , 4.9, 1.8, b'Iris-virginica')\n",
            " (6.4, 2.8, 5.6, 2.1, b'Iris-virginica')\n",
            " (7.2, 3. , 5.8, 1.6, b'Iris-virginica')\n",
            " (7.4, 2.8, 6.1, 1.9, b'Iris-virginica')\n",
            " (7.9, 3.8, 6.4, 2. , b'Iris-virginica')\n",
            " (6.4, 2.8, 5.6, 2.2, b'Iris-virginica')\n",
            " (6.3, 2.8, 5.1, 1.5, b'Iris-virginica')\n",
            " (6.1, 2.6, 5.6, 1.4, b'Iris-virginica')\n",
            " (7.7, 3. , 6.1, 2.3, b'Iris-virginica')\n",
            " (6.3, 3.4, 5.6, 2.4, b'Iris-virginica')\n",
            " (6.4, 3.1, 5.5, 1.8, b'Iris-virginica')\n",
            " (6. , 3. , 4.8, 1.8, b'Iris-virginica')\n",
            " (6.9, 3.1, 5.4, 2.1, b'Iris-virginica')\n",
            " (6.7, 3.1, 5.6, 2.4, b'Iris-virginica')\n",
            " (6.9, 3.1, 5.1, 2.3, b'Iris-virginica')\n",
            " (5.8, 2.7, 5.1, 1.9, b'Iris-virginica')\n",
            " (6.8, 3.2, 5.9, 2.3, b'Iris-virginica')\n",
            " (6.7, 3.3, 5.7, 2.5, b'Iris-virginica')\n",
            " (6.7, 3. , 5.2, 2.3, b'Iris-virginica')\n",
            " (6.3, 2.5, 5. , 1.9, b'Iris-virginica')\n",
            " (6.5, 3. , 5.2, 2. , b'Iris-virginica')\n",
            " (6.2, 3.4, 5.4, 2.3, b'Iris-virginica')\n",
            " (5.9, 3. , 5.1, 1.8, b'Iris-virginica')]\n"
          ]
        },
        {
          "output_type": "stream",
          "name": "stderr",
          "text": [
            "<ipython-input-5-be1180784c4e>:1: VisibleDeprecationWarning: Reading unicode strings without specifying the encoding argument is deprecated. Set the encoding, use None for the system default.\n",
            "  data1 = np.genfromtxt(data_path, delimiter=\",\", dtype=None)\n"
          ]
        }
      ],
      "source": [
        "data1 = np.genfromtxt(data_path, delimiter=\",\", dtype=None)\n",
        "print('Shape of the dataset:', data1.shape)\n",
        "print('Dataset type:', type(data1))\n",
        "print('A single row of the dataset is type of:', type(data1[0]))\n",
        "print('Types of elements:', type(data1[0][1]), type(data1[0][4]))\n",
        "print('Dataset:')\n",
        "print(data1)"
      ]
    },
    {
      "cell_type": "markdown",
      "metadata": {
        "id": "RIYW2mlDDlLU"
      },
      "source": [
        "### Указание типа столбцов при загрузке данных"
      ]
    },
    {
      "cell_type": "code",
      "execution_count": 6,
      "metadata": {
        "ExecuteTime": {
          "end_time": "2022-08-22T15:50:59.019675Z",
          "start_time": "2022-08-22T15:50:59.010669Z"
        },
        "colab": {
          "base_uri": "https://localhost:8080/"
        },
        "id": "jo7IGpavDlLU",
        "outputId": "66843f49-8026-4609-978f-72df9c56049a"
      },
      "outputs": [
        {
          "output_type": "stream",
          "name": "stdout",
          "text": [
            "Shape of the dataset: (150,)\n",
            "Dataset type: <class 'numpy.ndarray'>\n",
            "A single row of the dataset is type of: <class 'numpy.void'>\n",
            "Types of elements: <class 'numpy.float64'> <class 'numpy.str_'>\n",
            "Dataset slice:\n",
            "[(5.1, 3.5, 1.4, 0.2, 'Iris-setosa') (4.9, 3. , 1.4, 0.2, 'Iris-setosa')\n",
            " (4.7, 3.2, 1.3, 0.2, 'Iris-setosa') (4.6, 3.1, 1.5, 0.2, 'Iris-setosa')\n",
            " (5. , 3.6, 1.4, 0.2, 'Iris-setosa') (5.4, 3.9, 1.7, 0.4, 'Iris-setosa')\n",
            " (4.6, 3.4, 1.4, 0.3, 'Iris-setosa') (5. , 3.4, 1.5, 0.2, 'Iris-setosa')\n",
            " (4.4, 2.9, 1.4, 0.2, 'Iris-setosa') (4.9, 3.1, 1.5, 0.1, 'Iris-setosa')]\n"
          ]
        }
      ],
      "source": [
        "dt = np.dtype(\"f8, f8, f8, f8, U30\")\n",
        "data2 = np.genfromtxt(data_path, delimiter=\",\", dtype=dt)\n",
        "print('Shape of the dataset:', data2.shape)\n",
        "print('Dataset type:', type(data2))\n",
        "print('A single row of the dataset is type of:', type(data2[0]))\n",
        "print('Types of elements:', type(data2[0][1]), type(data2[0][4]))\n",
        "print('Dataset slice:')\n",
        "print(data2[:10])"
      ]
    },
    {
      "cell_type": "markdown",
      "metadata": {
        "id": "_zYCLCz1DlLU"
      },
      "source": [
        "### Построение графиков с использованием Matplotlib"
      ]
    },
    {
      "cell_type": "code",
      "execution_count": 7,
      "metadata": {
        "ExecuteTime": {
          "end_time": "2022-08-22T15:51:05.402528Z",
          "start_time": "2022-08-22T15:51:01.482184Z"
        },
        "colab": {
          "base_uri": "https://localhost:8080/",
          "height": 1000
        },
        "id": "JY7JW0tBDlLV",
        "outputId": "3e1e77d1-db1f-475d-da93-40b59cc08992"
      },
      "outputs": [
        {
          "output_type": "display_data",
          "data": {
            "text/plain": [
              "<Figure size 640x480 with 1 Axes>"
            ],
            "image/png": "[encoded data removed]"
          },
          "metadata": {}
        },
        {
          "output_type": "display_data",
          "data": {
            "text/plain": [
              "<Figure size 640x480 with 1 Axes>"
            ],
            "image/png": "[encoded data removed]"
          },
          "metadata": {}
        },
        {
          "output_type": "display_data",
          "data": {
            "text/plain": [
              "<Figure size 640x480 with 1 Axes>"
            ],
            "image/png": "[encoded data removed]"
          },
          "metadata": {}
        }
      ],
      "source": [
        "import matplotlib as mpl\n",
        "import matplotlib.pyplot as plt\n",
        "%matplotlib inline\n",
        "\n",
        "# Данные из отдельных столбцов\n",
        "sepal_length = [] # Sepal Length\n",
        "sepal_width = [] # Sepal Width\n",
        "petal_length = [] # Petal Length\n",
        "petal_width = [] # Petal Width\n",
        "\n",
        "# Выполняем обход всей коллекции data2\n",
        "for dot in data2:\n",
        "    sepal_length.append(dot[0])\n",
        "    sepal_width.append(dot[1])\n",
        "    petal_length.append(dot[2])\n",
        "    petal_width.append(dot[3])\n",
        "\n",
        "# Строим графики по проекциям данных\n",
        "# Учитываем, что каждые 50 типов ирисов идут последовательно\n",
        "plt.figure(1)\n",
        "setosa, = plt.plot(sepal_length[:50], sepal_width[:50], 'ro', label='Setosa')\n",
        "versicolor, = plt.plot(sepal_length[50:100], sepal_width[50:100], 'g^', label='Versicolor')\n",
        "virginica, = plt.plot(sepal_length[100:150], sepal_width[100:150], 'bs', label='Verginica')\n",
        "plt.legend(bbox_to_anchor=(1.05, 1), loc=2, borderaxespad=0.)\n",
        "plt.xlabel('Sepal Length')\n",
        "plt.ylabel('Sepal Width')\n",
        "\n",
        "plt.figure(2)\n",
        "setosa, = plt.plot(sepal_length[:50], petal_length[:50], 'ro', label='Setosa')\n",
        "versicolor, = plt.plot(sepal_length[50:100], petal_length[50:100], 'g^', label='Versicolor')\n",
        "virginica, = plt.plot(sepal_length[100:150], petal_length[100:150], 'bs', label='Verginica')\n",
        "plt.legend(bbox_to_anchor=(1.05, 1), loc=2, borderaxespad=0.)\n",
        "plt.xlabel('Sepal Length')\n",
        "plt.ylabel('Petal Length')\n",
        "\n",
        "plt.figure(3)\n",
        "setosa, = plt.plot(sepal_length[:50], petal_width[:50], 'ro', label='Setosa')\n",
        "versicolor, = plt.plot(sepal_length[50:100], petal_width[50:100], 'g^', label='Versicolor')\n",
        "virginica, = plt.plot(sepal_length[100:150], petal_width[100:150], 'bs', label='Verginica')\n",
        "plt.legend(bbox_to_anchor=(1.05, 1), loc=2, borderaxespad=0.)\n",
        "plt.xlabel('Sepal Length')\n",
        "plt.ylabel('Petal Width')\n",
        "\n",
        "plt.show()\n",
        "\n"
      ]
    },
    {
      "cell_type": "code",
      "source": [],
      "metadata": {
        "id": "wElg_74fDx4w"
      },
      "execution_count": null,
      "outputs": []
    }
  ],
  "metadata": {
    "kernelspec": {
      "display_name": "Python 3",
      "language": "python",
      "name": "python3"
    },
    "language_info": {
      "codemirror_mode": {
        "name": "ipython",
        "version": 3
      },
      "file_extension": ".py",
      "mimetype": "text/x-python",
      "name": "python",
      "nbconvert_exporter": "python",
      "pygments_lexer": "ipython3",
      "version": "3.6.6"
    },
    "toc": {
      "base_numbering": 1,
      "nav_menu": {},
      "number_sections": true,
      "sideBar": true,
      "skip_h1_title": false,
      "title_cell": "Table of Contents",
      "title_sidebar": "Contents",
      "toc_cell": false,
      "toc_position": {},
      "toc_section_display": true,
      "toc_window_display": false
    },
    "colab": {
      "provenance": [],
      "include_colab_link": true
    }
  },
  "nbformat": 4,
  "nbformat_minor": 0
}